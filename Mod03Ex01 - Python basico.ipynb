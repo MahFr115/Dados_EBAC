{
 "cells": [
  {
   "cell_type": "markdown",
   "metadata": {},
   "source": [
    "### 01 - Teste de gravidez\n",
    "Escreva uma célula com controle de fluxos que tem como premissa a existência das seguintes variáveis:\n",
    "\n",
    "- ```sexo``` como ```str``` indicando os valores '**M**' para masculino e '**F**' para feminino  \n",
    "- ```beta_hcg``` que indica a quantidade do beta-HCG no sangue em mUI/mL.\n",
    "\n",
    "A sua tarefa é escrever um código que imprima como resultado \"indivíduo do sexo masculino\" quando sexo = 'M', caso sexo = 'F', se o valor de beta-HCG for maior que 5, retorne \"Positivo\" indicando que a paciente está grávida, e retorne \"Negativo\" caso contrário.\n",
    "\n",
    "Não mexa nos valores da variável ```sexo``` nem em ```beta_hcg```, e escreva um código que funcione para quaisquer valores possíveis de ambos: ```sexo``` = '**M**' ou '**F**' e ```beta_hcg``` assumindo valores inteiros positivos."
   ]
  },
  {
   "cell_type": "code",
   "execution_count": 3,
   "metadata": {},
   "outputs": [
    {
     "name": "stdout",
     "output_type": "stream",
     "text": [
      "iIdivíduo do sexo masculino\n",
      "\n"
     ]
    }
   ],
   "source": [
    "sexo = 'M'\n",
    "beta_hcg = 0\n",
    "\n",
    "# seu código vem abaixo desta linha\n",
    "\n",
    "if sexo != 'F':\n",
    "    print(\"iIdivíduo do sexo masculino\\n\")\n",
    "\n",
    "else:\n",
    "    if beta_hcg>5:\n",
    "        print(\"Resultado Positivo\\n PARABÉNS!!!!!!\")\n",
    "        \n",
    "    else:\n",
    "        print(\"Resultado Negativo\")"
   ]
  },
  {
   "cell_type": "code",
   "execution_count": 2,
   "metadata": {},
   "outputs": [
    {
     "name": "stdout",
     "output_type": "stream",
     "text": [
      "Qual o sexo do indivíduo?\n",
      "(M para Homem ou F para mulher)\n",
      "F\n",
      "Qual a quantidade do beta-HCG no sangue (em mUI/mL)?\n",
      "50\n",
      "\n",
      "\n",
      "Resultado Positivo\n",
      "   PARABÉNS!!!!!!\n"
     ]
    }
   ],
   "source": [
    "sexo = 'M'\n",
    "beta_hcg = 0\n",
    "\n",
    "# seu código vem abaixo desta linha\n",
    "\n",
    "sexo = input(\"Qual o sexo do indivíduo?\\n(M para Homem ou F para mulher)\\n\")\n",
    "\n",
    "\n",
    "if sexo == 'F':\n",
    "    beta_hcg = input(\"Qual a quantidade do beta-HCG no sangue (em mUI/mL)?\\n\")\n",
    "    \n",
    "    if int(beta_hcg) > 5:\n",
    "        print(\"\\n\\nResultado Positivo\\n   PARABÉNS!!!!!!\")\n",
    "        \n",
    "    else:\n",
    "        print(\"\\n\\nResultado Negativo\")\n",
    "\n",
    "else:   \n",
    "    print(\"\\n\\nIndivíduo do sexo masculino\\n\")"
   ]
  },
  {
   "cell_type": "markdown",
   "metadata": {},
   "source": [
    "### 02 - Renomeando variáveis\n",
    "\n",
    "Vamos ver adiante que uma forma de renomear variáveis de um conjunto de dados é através de dicionários - o dicionário deve conter como chave o nome original, associando a cada chave um único valor (tipo *str*) que contenha o nome novo.\n",
    "\n",
    "A sua tarefa é escrever um dicionário que possa ser utilizado para traduzir as variáveis ```name``` (nome), ```age``` (idade) e ```income``` (renda). Ou seja, esse dicionário deve relacionar as chaves *name, age* e *income* às suas respectivas traduções."
   ]
  },
  {
   "cell_type": "code",
   "execution_count": 4,
   "metadata": {},
   "outputs": [
    {
     "name": "stdout",
     "output_type": "stream",
     "text": [
      "{'name': 'nome', 'age': 'idade', 'income': 'renda'}\n"
     ]
    }
   ],
   "source": [
    "dic_renomeacao = dict()\n",
    "dic_renomeacao['name'] = 'nome'\n",
    "dic_renomeacao['age'] = 'idade'\n",
    "dic_renomeacao['income'] = 'renda'\n",
    "\n",
    "print(dic_renomeacao)"
   ]
  },
  {
   "cell_type": "markdown",
   "metadata": {},
   "source": [
    "### 03 - É divisível?\n",
    "A sua tarefa é escrever um código que indique se um número ```N``` é divisível por um número P. Escreva um programa que faça essa verificação para quaisquer combinações de ```N``` e ```M``` e devolva uma mensagem indicativa no output."
   ]
  },
  {
   "cell_type": "code",
   "execution_count": 7,
   "metadata": {},
   "outputs": [
    {
     "name": "stdout",
     "output_type": "stream",
     "text": [
      "42  /  7  =  6 \n",
      "e o resto é 0, portanto 42 é divisível por 7\n"
     ]
    }
   ],
   "source": [
    "N = 42\n",
    "M = 7\n",
    "\n",
    "#Seu código\n",
    "if N%M == 0:\n",
    "    print (N, ' / ',M, \" = \", N//M,\"\\ne o resto é 0, portanto\", N, \"é divisível por\", M)\n",
    "else:\n",
    "    print(N, ' / ',M, \" = \", N//M,\"\\ne o resto é \", N%M, \", portanto\", N, \"não é divisível por\", M)\n",
    "    "
   ]
  },
  {
   "cell_type": "code",
   "execution_count": 8,
   "metadata": {},
   "outputs": [
    {
     "name": "stdout",
     "output_type": "stream",
     "text": [
      "Qual o valor do dividendo?\n",
      "50\n",
      "Qual o valor do divisor?\n",
      "4\n",
      "\n",
      "\n",
      "50  /  4  =  12 \n",
      "e o resto é  2 , portanto 50 não é divisível por 4\n"
     ]
    }
   ],
   "source": [
    "N = 42\n",
    "M = 7\n",
    "\n",
    "#Seu código\n",
    "\n",
    "N = int(input(\"Qual o valor do dividendo?\\n\"))\n",
    "\n",
    "M = int(input(\"Qual o valor do divisor?\\n\"))\n",
    "print('\\n')\n",
    "\n",
    "if N%M == 0:\n",
    "    print (N, ' / ',M, \" = \", N//M,\"\\ne o resto é 0, portanto\", N, \"é divisível por\", M )\n",
    "else:\n",
    "    print(N, ' / ',M, \" = \", N//M,\"\\ne o resto é \", N%M, \", portanto\", N, \"não é divisível por\", M)"
   ]
  },
  {
   "cell_type": "markdown",
   "metadata": {},
   "source": [
    "### 04 - Números primos\n",
    "> Um número **N** é primo se e somente se é divisível por 1, -1, por **N** e por -**N**.  \n",
    "\n",
    "Escreva um script que verifica se ```N``` é um número primo, verificando se ```N``` é divisível por todos os números de ```1``` a ```N-1```. Você vai precisar usar alguma ferramenta de *loop* que você aprendeu para isto. No final, devolva uma mensagem no output indicando se o número é primo ou não."
   ]
  },
  {
   "cell_type": "code",
   "execution_count": 9,
   "metadata": {},
   "outputs": [
    {
     "name": "stdout",
     "output_type": "stream",
     "text": [
      "[-47, -1, 1, 47]\n",
      "\n",
      "\n",
      "47 é primo\n"
     ]
    }
   ],
   "source": [
    "N = 47\n",
    "\n",
    "# seu código abaixo\n",
    "\n",
    "divisor =[]\n",
    "x = -N\n",
    "\n",
    "while x >= -N and x <= N:\n",
    "    \n",
    "    try:\n",
    "        if N%x == 0:\n",
    "            divisor.append(x)\n",
    "        x +=1\n",
    "    \n",
    "    except  ZeroDivisionError:\n",
    "        x+=1\n",
    "\n",
    "print (divisor)\n",
    "print(\"\\n\")\n",
    "\n",
    "if len(divisor) == 4:\n",
    "    print(N,\"é primo\")\n",
    "\n",
    "else:\n",
    "    print(N,\"não é primo\")\n"
   ]
  },
  {
   "cell_type": "code",
   "execution_count": 10,
   "metadata": {},
   "outputs": [
    {
     "name": "stdout",
     "output_type": "stream",
     "text": [
      "Qual o valor a ser pesquisado?\n",
      "58\n",
      "\n",
      "\n",
      "[-58, -29, -2, -1, 1, 2, 29, 58]\n",
      "\n",
      "\n",
      "58 não é primo\n"
     ]
    }
   ],
   "source": [
    "N = 47\n",
    "\n",
    "# seu código abaixo\n",
    "\n",
    "divisor =[]\n",
    "\n",
    "N = int(input(\"Qual o valor a ser pesquisado?\\n\"))\n",
    "print('\\n')\n",
    "\n",
    "x = -N\n",
    "\n",
    "while x >= -N and x <= N:\n",
    "    \n",
    "    try:\n",
    "        if N%x == 0:\n",
    "            divisor.append(x)\n",
    "        x +=1\n",
    "    \n",
    "    except  ZeroDivisionError:\n",
    "        x+=1\n",
    "\n",
    "print (divisor)\n",
    "print(\"\\n\")\n",
    "\n",
    "if len(divisor) == 4:\n",
    "    print(N,\"é primo\")\n",
    "\n",
    "else:\n",
    "    print(N,\"não é primo\")"
   ]
  },
  {
   "cell_type": "markdown",
   "metadata": {},
   "source": [
    "### 05 - Desafio\n",
    "O algorítmo do exercício anterior não é o mais eficiente. O que você pode fazer para deixá-lo mais eficiente? Ou seja, executar menos comparações, portanto consumir menos tempo.\n",
    "1. Será que precisamos correr o loop até o final sempre?\n",
    "2. Será que precisamos mesmo verificar **todos** os números?\n",
    "3. Será que precisamos ir até N-1?\n",
    "\n",
    "Essas perguntas levam ao tipo de pensamento voltado a deixar um algoritmo mais eficiente. Veja se você consegue melhorar o seu."
   ]
  },
  {
   "cell_type": "code",
   "execution_count": 14,
   "metadata": {},
   "outputs": [
    {
     "name": "stdout",
     "output_type": "stream",
     "text": [
      "[2, 7, 14, 49, 98]\n",
      "\n",
      "\n",
      "98 não é primo\n"
     ]
    }
   ],
   "source": [
    "N = 98\n",
    "\n",
    "# seu código aqui\n",
    "\n",
    "divisor=[]\n",
    "\n",
    "while x <= N:\n",
    "    \n",
    "    if N%x == 0:\n",
    "        divisor.append(x)\n",
    "    x +=1\n",
    "\n",
    "print(divisor)\n",
    "print(\"\\n\")\n",
    "\n",
    "if  len(divisor) == 2:\n",
    "    print(N,\"é primo\")\n",
    "    \n",
    "else:\n",
    "    print(N,\"não é primo\")"
   ]
  },
  {
   "cell_type": "code",
   "execution_count": 12,
   "metadata": {},
   "outputs": [
    {
     "name": "stdout",
     "output_type": "stream",
     "text": [
      "Qual o valor a ser pesquisado?\n",
      "1\n",
      "\n",
      "\n",
      "[1]\n",
      "\n",
      "\n",
      "1 não é primo\n"
     ]
    }
   ],
   "source": [
    "N = 98\n",
    "\n",
    "# seu código aqui\n",
    "\n",
    "divisor =[]\n",
    "x = 1\n",
    "\n",
    "N = int(input(\"Qual o valor a ser pesquisado?\\n\"))\n",
    "\n",
    "print('\\n')\n",
    "\n",
    "while x <= N:\n",
    "    \n",
    "    if N%x == 0:\n",
    "        divisor.append(x)\n",
    "    x +=1\n",
    "    \n",
    "print(divisor)\n",
    "print(\"\\n\")\n",
    "\n",
    "\n",
    "if len(divisor) == 2:\n",
    "    print(N,\"é primo\")\n",
    "    \n",
    "else:\n",
    "    print(N,\"não é primo\")"
   ]
  },
  {
   "cell_type": "markdown",
   "metadata": {},
   "source": [
    "### 06 - Peso ideal 1\n",
    "O IMC (índice de massa corpórea) é um indicador de saúde mais bem aceito que o peso. Ele é calculado como:\n",
    "\n",
    "$$ IMC = \\dfrac{peso}{altura^2}$$\n",
    "\n",
    "Segundo a OMS, valores *normais* são entre 18.5 e 24.9.\n",
    "\n",
    "Sua tarefa é encontrar o ponto médio dessa faixa."
   ]
  },
  {
   "cell_type": "code",
   "execution_count": 15,
   "metadata": {},
   "outputs": [
    {
     "name": "stdout",
     "output_type": "stream",
     "text": [
      "O IMC médio ideal é 21.7\n"
     ]
    }
   ],
   "source": [
    "imc_ideal = (18.5 + 24.9)/2\n",
    "\n",
    "print(\"O IMC médio ideal é\", imc_ideal)"
   ]
  },
  {
   "cell_type": "markdown",
   "metadata": {},
   "source": [
    "### 07 - Peso ideal 2\n",
    "Recebendo um valor de altura, encontre o peso '*ideal*' dessa pessoa, que fornece o IMC encontrado acima"
   ]
  },
  {
   "cell_type": "code",
   "execution_count": 16,
   "metadata": {},
   "outputs": [
    {
     "name": "stdout",
     "output_type": "stream",
     "text": [
      "O peso ideal para alguém de 1.7 m é 62.71 kg\n"
     ]
    }
   ],
   "source": [
    "altura = 1.70\n",
    "\n",
    "# Seu código\n",
    "\n",
    "altura2 = altura**2\n",
    "\n",
    "peso_ideal = altura2 *imc_ideal\n",
    "print(\"O peso ideal para alguém de\",altura,\"m é\", round(peso_ideal, 2),\"kg\")"
   ]
  },
  {
   "cell_type": "code",
   "execution_count": 17,
   "metadata": {},
   "outputs": [
    {
     "name": "stdout",
     "output_type": "stream",
     "text": [
      "Qual a altura?\n",
      "1.56\n",
      "\n",
      "\n",
      "O peso ideal para alguém de 1.56 m é 52.81 kg\n"
     ]
    }
   ],
   "source": [
    "altura = 1.70\n",
    "\n",
    "# Seu código\n",
    "altura = float(input(\"Qual a altura?\\n\"))\n",
    "\n",
    "altura2 = altura**2\n",
    "\n",
    "peso_ideal = altura2 *imc_ideal\n",
    "print(\"\\n\")\n",
    "print(\"O peso ideal para alguém de\",altura,\"m é\", round(peso_ideal, 2),\"kg\")"
   ]
  },
  {
   "cell_type": "markdown",
   "metadata": {},
   "source": [
    "### 08 - Peso ideal 3\n",
    "Dada uma lista contendo as alturas de pacientes, crie uma nova lista que contenha o peso '*ideal*' (que fornece o IMC calculado em **Peso ideal 1**) desses pacientes."
   ]
  },
  {
   "cell_type": "code",
   "execution_count": 18,
   "metadata": {},
   "outputs": [
    {
     "name": "stdout",
     "output_type": "stream",
     "text": [
      "[82.51, 91.19, 62.71, 59.08]\n"
     ]
    }
   ],
   "source": [
    "lista_alturas = [1.95, 2.05, 1.70, 1.65]\n",
    "\n",
    "lista_peso_ideal = []\n",
    "\n",
    "# seu código\n",
    "\n",
    "for altura in lista_alturas:\n",
    "    \n",
    "    peso_ideal = imc_ideal * (altura**2)\n",
    "    lista_peso_ideal.append(round(peso_ideal, 2))\n",
    "\n",
    "print(lista_peso_ideal)"
   ]
  },
  {
   "cell_type": "code",
   "execution_count": 20,
   "metadata": {},
   "outputs": [
    {
     "name": "stdout",
     "output_type": "stream",
     "text": [
      "Qual a altura? (Para encerrar digite 0)\n",
      "1.7\n",
      "Qual a altura? (Para encerrar digite 0)\n",
      "1.65\n",
      "Qual a altura? (Para encerrar digite 0)\n",
      "1.56\n",
      "Qual a altura? (Para encerrar digite 0)\n",
      "1.48\n",
      "Qual a altura? (Para encerrar digite 0)\n",
      "1.78\n",
      "Qual a altura? (Para encerrar digite 0)\n",
      "0\n",
      "[1.7, 1.65, 1.56, 1.48, 1.78]\n",
      "[62.71, 59.08, 52.81, 47.53, 68.75]\n"
     ]
    }
   ],
   "source": [
    "lista_alturas = []\n",
    "\n",
    "lista_peso_ideal = []\n",
    "# seu código\n",
    "\n",
    "altura = float(input(\"Qual a altura? (Para encerrar digite 0)\\n\"))\n",
    "\n",
    "while altura != 0:\n",
    "    lista_alturas.append(altura)\n",
    "    altura = float(input(\"Qual a altura? (Para encerrar digite 0)\\n\"))\n",
    "    \n",
    "print(lista_alturas)\n",
    "\n",
    "# seu código\n",
    "\n",
    "for alturas in lista_alturas:\n",
    "    \n",
    "    peso_ideal = imc_ideal * (alturas**2)\n",
    "    lista_peso_ideal.append(round(peso_ideal, 2))\n",
    "\n",
    "print(lista_peso_ideal)"
   ]
  },
  {
   "cell_type": "markdown",
   "metadata": {},
   "source": [
    "### 09 - Peso ideal 4\n",
    "Dada uma lista de tuplas - cada elemento da lista é uma tupla contendo altura e peso de um paciente - crie uma nova lista com o IMC desses pacientes."
   ]
  },
  {
   "cell_type": "code",
   "execution_count": 21,
   "metadata": {},
   "outputs": [
    {
     "name": "stdout",
     "output_type": "stream",
     "text": [
      "[27.78, 27.55, 19.19]\n"
     ]
    }
   ],
   "source": [
    "altura_peso = [(1.80, 90), (1.65, 75), (1.91, 70)]\n",
    "\n",
    "imc = []\n",
    "\n",
    "# seu código\n",
    "\n",
    "for dupla in altura_peso:\n",
    "    \n",
    "    alt, peso = dupla\n",
    "    imc_ind = round(peso/(alt**2), 2)\n",
    "    imc.append(imc_ind)\n",
    "\n",
    "print(imc)"
   ]
  },
  {
   "cell_type": "code",
   "execution_count": 22,
   "metadata": {},
   "outputs": [
    {
     "name": "stdout",
     "output_type": "stream",
     "text": [
      "Qual a altura? (Para encerrar digite 0)\n",
      "1.75\n",
      "Qual o peso?\n",
      "89\n",
      "Qual a altura? (Para encerrar digite 0)\n",
      "1.56\n",
      "Qual o peso?\n",
      "55\n",
      "Qual a altura? (Para encerrar digite 0)\n",
      "1.90\n",
      "Qual o peso?\n",
      "100\n",
      "Qual a altura? (Para encerrar digite 0)\n",
      "1.8\n",
      "Qual o peso?\n",
      "95\n",
      "Qual a altura? (Para encerrar digite 0)\n",
      "0\n",
      "[(1.75, 89.0), (1.56, 55.0), (1.9, 100.0), (1.8, 95.0)]\n",
      "\n",
      "\n",
      "[29.06, 22.6, 27.7, 29.32]\n"
     ]
    }
   ],
   "source": [
    "altura_peso = []\n",
    "dupla = ()\n",
    "imc = []\n",
    "\n",
    "altura = float(input(\"Qual a altura? (Para encerrar digite 0)\\n\"))\n",
    "peso = float(input(\"Qual o peso?\\n\"))\n",
    "\n",
    "while altura != 0:\n",
    "\n",
    "    a = altura\n",
    "    p = peso\n",
    "    dupla = (a, p)\n",
    "    altura_peso.append(dupla)\n",
    "    altura = float(input(\"Qual a altura? (Para encerrar digite 0)\\n\"))\n",
    "\n",
    "    if altura != 0:\n",
    "      peso = float(input(\"Qual o peso?\\n\"))\n",
    "\n",
    "print(altura_peso)\n",
    "print(\"\\n\")\n",
    "\n",
    "for dupla in altura_peso:\n",
    "  alt, peso = dupla\n",
    "  imc_ind = round(peso/(alt**2), 2)\n",
    "  imc.append(imc_ind)\n",
    "\n",
    "print(imc)"
   ]
  },
  {
   "cell_type": "markdown",
   "metadata": {},
   "source": [
    "### 10 - Peso ideal 5\n",
    "Dada uma lista de **listas** - cada elemento da lista é uma **lista** contendo altura e peso de um paciente, adicione mais um elemento à lista de cada paciente contendo o IMC do paciente. Verifique também se é 'baixo', 'normal' ou 'alto' segundo os padrões da OMS em que normal é entre 18.5 e 24.9.\n",
    "\n",
    "Reflexão: por que no problema anterior temos que criar uma nova lista, e não podemos adicionar os dados de cada indivíduo à tupla?"
   ]
  },
  {
   "cell_type": "code",
   "execution_count": 23,
   "metadata": {},
   "outputs": [
    {
     "name": "stdout",
     "output_type": "stream",
     "text": [
      "[[1.8, 90, 27.78, 'Alto'], [1.65, 75, 27.55, 'Alto'], [1.91, 70, 19.19, 'Normal']]\n"
     ]
    }
   ],
   "source": [
    "altura_peso = [[1.80, 90], [1.65, 75], [1.91, 70]]\n",
    "\n",
    "# seu código\n",
    "\n",
    "for item in altura_peso:\n",
    "\n",
    "    alt, peso = item\n",
    "    imc = peso/(alt**2)\n",
    "    \n",
    "    if imc > 24.9:\n",
    "        desc = 'Alto'\n",
    "    elif imc < 18.5:\n",
    "        desc = 'Baixo'\n",
    "    else:\n",
    "        desc = 'Normal'\n",
    "\n",
    "    item.append(round(imc, 2))\n",
    "    item.append(desc)\n",
    "\n",
    "print(altura_peso)"
   ]
  },
  {
   "cell_type": "code",
   "execution_count": 34,
   "metadata": {},
   "outputs": [
    {
     "name": "stdout",
     "output_type": "stream",
     "text": [
      "Qual a altura? (Para encerrar digite 0)\n",
      "1.85\n",
      "Qual o peso?\n",
      "80\n",
      "Qual a altura? (Para encerrar digite 0)\n",
      "1.65\n",
      "Qual o peso?\n",
      "45\n",
      "Qual a altura? (Para encerrar digite 0)\n",
      "1.83\n",
      "Qual o peso?\n",
      "80\n",
      "Qual a altura? (Para encerrar digite 0)\n",
      "1.90\n",
      "Qual o peso?\n",
      "100\n",
      "Qual a altura? (Para encerrar digite 0)\n",
      "0\n",
      "\n",
      "\n",
      "[[1.85, 80.0, 23.37, 'Normal'], [1.65, 45.0, 16.53, 'Baixo'], [1.83, 80.0, 23.89, 'Normal'], [1.9, 100.0, 27.7, 'Alto']]\n"
     ]
    }
   ],
   "source": [
    "altura_peso = []\n",
    "dupla = []\n",
    "\n",
    "a = float(input(\"Qual a altura? (Para encerrar digite 0)\\n\"))\n",
    "p = float(input(\"Qual o peso?\\n\"))\n",
    "\n",
    "while a != 0:\n",
    "\n",
    "    dupla = [a, p]\n",
    "    altura_peso.append(dupla)\n",
    "    a = float(input(\"Qual a altura? (Para encerrar digite 0)\\n\"))\n",
    "\n",
    "    if a != 0:\n",
    "        p = float(input(\"Qual o peso?\\n\"))\n",
    "\n",
    "for dupla in altura_peso:\n",
    "    \n",
    "    alt, peso = dupla\n",
    "    imc= round(peso/(alt**2), 2)\n",
    "    dupla.append(imc)\n",
    "\n",
    "    if imc > 24.9:\n",
    "        desc = 'Alto'\n",
    "    elif imc < 18.5:\n",
    "        desc = 'Baixo'\n",
    "    else:\n",
    "        desc = 'Normal'\n",
    "  \n",
    "    dupla.append(desc)\n",
    "    \n",
    "print(\"\\n\")\n",
    "print(altura_peso)"
   ]
  }
 ],
 "metadata": {
  "kernelspec": {
   "display_name": "Python 3 (ipykernel)",
   "language": "python",
   "name": "python3"
  },
  "language_info": {
   "codemirror_mode": {
    "name": "ipython",
    "version": 3
   },
   "file_extension": ".py",
   "mimetype": "text/x-python",
   "name": "python",
   "nbconvert_exporter": "python",
   "pygments_lexer": "ipython3",
   "version": "3.11.5"
  }
 },
 "nbformat": 4,
 "nbformat_minor": 4
}
